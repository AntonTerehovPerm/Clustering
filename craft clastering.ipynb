{
 "cells": [
  {
   "cell_type": "code",
   "execution_count": null,
   "metadata": {},
   "outputs": [],
   "source": [
    "import random as rd\n",
    "data_set = []\n",
    "N = 1\n",
    "k = 1999\n",
    "for x in range(10000):\n",
    "    if x >= k:\n",
    "        N+=1\n",
    "        k+=1999\n",
    "    new_mas = [rd.randint(1*N,21*N),rd.randint(1*N,21*N),rd.randint(1*N,21*N),rd.randint(1*N,21*N),rd.randint(1*N,21*N),\n",
    "               rd.randint(1*N,21*N),rd.randint(1*N,10*N),rd.randint(0,50),\n",
    "                   rd.randint(1,15),rd.randint(0,50000)]\n",
    "    if N > 5:\n",
    "        N = 5\n",
    "    data_set.append(new_mas+[N])"
   ]
  },
  {
   "cell_type": "code",
   "execution_count": null,
   "metadata": {},
   "outputs": [],
   "source": [
    "import pandas as pd\n",
    "df = pd.DataFrame(data_set,columns=['Tag_1','Tag_2','Tag_3','Tag_4','Tag_5','Tag_6','Main_Tag','Materials','Store','Cost','Cluster'])\n",
    "df.head()"
   ]
  },
  {
   "cell_type": "code",
   "execution_count": 18,
   "metadata": {},
   "outputs": [
    {
     "name": "stdout",
     "output_type": "stream",
     "text": [
      "316\n",
      "163\n",
      "442\n",
      "537\n",
      "971\n"
     ]
    }
   ],
   "source": [
    "import random as rd\n",
    "for x in range(5):\n",
    "    print(rd.randint(0,1000))"
   ]
  },
  {
   "cell_type": "code",
   "execution_count": null,
   "metadata": {},
   "outputs": [],
   "source": []
  },
  {
   "cell_type": "code",
   "execution_count": null,
   "metadata": {},
   "outputs": [],
   "source": []
  },
  {
   "cell_type": "code",
   "execution_count": null,
   "metadata": {},
   "outputs": [],
   "source": []
  },
  {
   "cell_type": "code",
   "execution_count": 1,
   "metadata": {},
   "outputs": [],
   "source": [
    "import pandas as pd"
   ]
  },
  {
   "cell_type": "code",
   "execution_count": null,
   "metadata": {},
   "outputs": [],
   "source": [
    "data_set = []"
   ]
  },
  {
   "cell_type": "code",
   "execution_count": null,
   "metadata": {},
   "outputs": [],
   "source": [
    "df = pd.DataFrame(data_set,columns=['Tag_1','Tag_2','Tag_3','Tag_4','Tag_5','Tag_6','Main_Tag','Materials','Store','Cost','Cluster'])\n",
    "df.head()"
   ]
  },
  {
   "cell_type": "code",
   "execution_count": null,
   "metadata": {},
   "outputs": [],
   "source": [
    "df.to_csv('magazine.csv')"
   ]
  }
 ],
 "metadata": {
  "kernelspec": {
   "display_name": "Python 3",
   "language": "python",
   "name": "python3"
  },
  "language_info": {
   "codemirror_mode": {
    "name": "ipython",
    "version": 3
   },
   "file_extension": ".py",
   "mimetype": "text/x-python",
   "name": "python",
   "nbconvert_exporter": "python",
   "pygments_lexer": "ipython3",
   "version": "3.6.5"
  }
 },
 "nbformat": 4,
 "nbformat_minor": 2
}
